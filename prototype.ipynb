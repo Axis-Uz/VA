{
 "cells": [
  {
   "cell_type": "code",
   "execution_count": 125,
   "metadata": {},
   "outputs": [],
   "source": [
    "# All Imports\n",
    "import pyttsx3 as tts\n",
    "import speech_recognition as sr\n",
    "import PyDictionary as pyd\n",
    "from email.message import EmailMessage\n",
    "from newsapi import NewsApiClient\n",
    "import datetime\n",
    "import wikipedia\n",
    "import webbrowser\n",
    "import pytube\n",
    "import requests\n",
    "import os\n",
    "import json\n",
    "import smtplib\n",
    "import ssl\n",
    "import randfacts\n",
    "import wolframalpha\n",
    "import re\n",
    "import pyjokes\n",
    "import dadjokes\n",
    "\n",
    "# Web Crawling\n",
    "from selenium import webdriver\n",
    "from selenium.webdriver.firefox.service import Service\n",
    "from webdriver_manager.firefox import GeckoDriverManager\n",
    "from selenium.webdriver.common.by import By\n",
    "from selenium.webdriver.support.ui import WebDriverWait\n",
    "from selenium.webdriver.support import expected_conditions as EC\n"
   ]
  },
  {
   "cell_type": "code",
   "execution_count": 126,
   "metadata": {},
   "outputs": [],
   "source": [
    "# Global Variables\n",
    "user_profile = json.load(open('data/user_profile.json'))[\"user\"]\n",
    "contacts = json.load(open('data/user_profile.json'))[\"contacts\"]\n",
    "settings = json.load(open(\"data/va_settings.json\"))\n",
    "stored_Websites = settings[\"websites\"]\n",
    "stored_API = settings[\"api\"]\n"
   ]
  },
  {
   "cell_type": "code",
   "execution_count": 127,
   "metadata": {},
   "outputs": [],
   "source": [
    "# Setting up the engine\n",
    "engine = tts.init('sapi5')\n",
    "voices = engine.getProperty('voices')\n",
    "engine.setProperty('rate', 220)\n",
    "engine.setProperty('voice', voices[1].id)\n"
   ]
  },
  {
   "cell_type": "code",
   "execution_count": 128,
   "metadata": {},
   "outputs": [],
   "source": [
    "def speak(text):\n",
    "    \"\"\"Inputted text is spoken\"\"\"\n",
    "    engine.say(text)\n",
    "    print(\"Hazel: \" + text)\n",
    "    engine.runAndWait()\n"
   ]
  },
  {
   "cell_type": "code",
   "execution_count": 129,
   "metadata": {},
   "outputs": [],
   "source": [
    "def wishMe():\n",
    "    \"\"\"Greet the User\"\"\"\n",
    "    hour = int(datetime.datetime.now().hour)\n",
    "    if hour >= 0 and hour < 12:\n",
    "        speak(\"Good Morning! \")\n",
    "    elif hour >= 12 and hour < 18:\n",
    "        speak(\"Good Afternoon! \")\n",
    "    else:\n",
    "        speak(\"Good Evening!\")\n",
    "\n",
    "    speak(\"I am Hazel. Please tell me how may I help you\")\n"
   ]
  },
  {
   "cell_type": "code",
   "execution_count": 130,
   "metadata": {},
   "outputs": [],
   "source": [
    "def acceptCommand():\n",
    "    \"\"\"Accepts the user's command via the microphone and returns the string output\"\"\"\n",
    "    r = sr.Recognizer()\n",
    "    with sr.Microphone() as source:\n",
    "        print(\"Listening...\")\n",
    "        r.adjust_for_ambient_noise(source, duration=0.5)\n",
    "        r.pause_threshold = 1\n",
    "        # seconds of non-speaking audio before a phrase is considered complete\n",
    "        audio = r.listen(source)\n",
    "\n",
    "    try:\n",
    "        query = r.recognize_google(audio, language=settings[\"language\"])\n",
    "        print(user_profile[\"user\"][\"name\"]+\": \", query, end=\"\\n\\n\")\n",
    "    except Exception as e:\n",
    "        speak(\"Unable to recognize your voice. Please say that again...\")\n",
    "        return \"None\"\n",
    "    return query\n"
   ]
  },
  {
   "cell_type": "code",
   "execution_count": 131,
   "metadata": {},
   "outputs": [],
   "source": [
    "def sendMail():\n",
    "    sender = user_profile[\"email\"]\n",
    "    password = user_profile[\"password\"]\n",
    "    receiver = contacts[\"Uzair\"][\"email\"]\n",
    "\n",
    "    em = EmailMessage()\n",
    "    em['From'] = sender\n",
    "    em['To'] = receiver\n",
    "    em['Subject'] = \"Testing\"\n",
    "    em.set_content(\"I am Tired.\")\n",
    "\n",
    "    context = ssl.create_default_context()\n",
    "    with smtplib.SMTP_SSL('smtp.gmail.com', 465, context=context) as smtp:\n",
    "        smtp.login(sender, password)\n",
    "        smtp.sendmail(sender, receiver, em.as_string())\n"
   ]
  },
  {
   "cell_type": "code",
   "execution_count": 132,
   "metadata": {},
   "outputs": [],
   "source": [
    "def searchWikipedia():\n",
    "    \"\"\"Searches Wikipedia for the user's query\"\"\"\n",
    "    query = acceptCommand().lower()\n",
    "    q = wikipedia.search(query)[0]\n",
    "    print(\"Searched\", q)\n",
    "    results = wikipedia.summary(q, sentences=1, auto_suggest=False)\n",
    "    # results = wikipedia.summary(query, sentences=2)\n",
    "    speak(\"According to Wikipedia\")\n",
    "    print(results)\n",
    "    speak(results)\n"
   ]
  },
  {
   "cell_type": "code",
   "execution_count": 140,
   "metadata": {},
   "outputs": [],
   "source": [
    "def getFacts():\n",
    "    \"\"\"Returns a random fact\"\"\"\n",
    "    speak(\"Here is a random fact\")\n",
    "    speak(randfacts.get_fact())\n",
    "\n",
    "\n",
    "def getJokes():\n",
    "    \"\"\"Returns a random joke\"\"\"\n",
    "    speak(\"Here is a random joke\")\n",
    "    joking = dadjokes.Dadjoke()\n",
    "    speak(joking.joke)\n"
   ]
  },
  {
   "cell_type": "code",
   "execution_count": 141,
   "metadata": {},
   "outputs": [],
   "source": [
    "def playMusic():\n",
    "    \"\"\"Plays music from the user's directory\"\"\"\n",
    "    #! Still has some issues with song title match\n",
    "    songs = [s.lower() for s in os.listdir(\n",
    "        \"D:/Transfer/Music/LS-F-KPS-320/LS-F-KPS-320\")]\n",
    "    print(songs)\n",
    "    speak(\"Which song would you like to play?\")\n",
    "    query = acceptCommand().lower()\n",
    "    if query+\".mp3\" in songs:\n",
    "        os.startfile(\n",
    "            \"D:/Transfer/Music/LS-F-KPS-320/LS-F-KPS-320/\" + query + \".mp3\")\n",
    "    else:\n",
    "        speak(\"I don't know that song\")\n"
   ]
  },
  {
   "cell_type": "code",
   "execution_count": 142,
   "metadata": {},
   "outputs": [],
   "source": [
    "def playYouTube():#TODO Incomplete\n",
    "    \"\"\"Plays a YouTube video from the user's query\"\"\"\n",
    "    query = acceptCommand().lower()\n",
    "    query = re.sub(r\"\\W+\", \"\", query)\n",
    "    yt = pytube.YouTube(\"https://www.youtube.com/watch?v=\" + query)\n",
    "    # stream = yt.streams.first()\n",
    "    # stream.download(\"D:/Transfer/Music/YouTube\")\n",
    "    # os.startfile(\"D:/Transfer/Music/YouTube/\" + query + \".mp4\")\n"
   ]
  },
  {
   "cell_type": "code",
   "execution_count": 136,
   "metadata": {},
   "outputs": [],
   "source": [
    "def solveProblems():\n",
    "    \"\"\"Perform basic problems solving\"\"\"\n",
    "    client = wolframalpha.Client(stored_API[\"wolframalpha\"][\"client\"])\n",
    "    query = acceptCommand().lower()\n",
    "    response = client.query(query)\n",
    "    try:\n",
    "        answer = next(response.results).text\n",
    "        speak(answer)\n",
    "    except Exception as e:\n",
    "        speak(\"I don't know that\")\n"
   ]
  },
  {
   "cell_type": "code",
   "execution_count": 137,
   "metadata": {},
   "outputs": [],
   "source": [
    "def useDictionary():\n",
    "    \"\"\"Get Meaning, Synonyms, Antonyms\"\"\"\n",
    "    query = acceptCommand().lower()\n",
    "    dictionary = pyd.PyDictionary()\n",
    "    try:\n",
    "        # TODO Needs more polishing on the response part and command\n",
    "        meaning = dictionary.meaning(query)\n",
    "        speak(\"According to dictionary\")\n",
    "        print(meaning)\n",
    "        speak(meaning)\n",
    "    except Exception as e:\n",
    "        speak(\"I don't know that\")\n"
   ]
  },
  {
   "cell_type": "code",
   "execution_count": 138,
   "metadata": {},
   "outputs": [],
   "source": [
    "def openWebsite():\n",
    "    \"\"\"Opens a website from the user's query\"\"\"\n",
    "    query = acceptCommand().lower()\n",
    "    if stored_Websites.__contains__(query):\n",
    "        webbrowser.open(stored_Websites[query])\n",
    "    else:\n",
    "        speak(\n",
    "            \"I don't know that website. You can add the URL to the list of websites I know\")\n",
    "        if input(\"Want to add Website to list? (y/n) \") == \"y\":\n",
    "            stored_Websites[input(\"Enter Website Name: \")\n",
    "                            ] = input(\"\\nEnter URL: \")\n",
    "            speak(\"Website added to list\")\n",
    "            openWebsite()\n",
    "        # speak(\"What is the URL of the website you want to open?\")\n",
    "        # input()\n"
   ]
  },
  {
   "cell_type": "code",
   "execution_count": 143,
   "metadata": {},
   "outputs": [],
   "source": [
    "#TODO Incomplete\n",
    "\n",
    "# def getNews():\n",
    "client = NewsApiClient(api_key=stored_API['news']['client'])\n",
    "# client.get_top_headlines(country=\"in\", language=settings[\"language\"])\n"
   ]
  }
 ],
 "metadata": {
  "kernelspec": {
   "display_name": "Python 3.9.5 64-bit",
   "language": "python",
   "name": "python3"
  },
  "language_info": {
   "codemirror_mode": {
    "name": "ipython",
    "version": 3
   },
   "file_extension": ".py",
   "mimetype": "text/x-python",
   "name": "python",
   "nbconvert_exporter": "python",
   "pygments_lexer": "ipython3",
   "version": "3.9.5"
  },
  "orig_nbformat": 4,
  "vscode": {
   "interpreter": {
    "hash": "8d5aa14094e002f71c6ad8beb2c9fae07041a01fdf6750dfbca6c8f02def1aab"
   }
  }
 },
 "nbformat": 4,
 "nbformat_minor": 2
}
